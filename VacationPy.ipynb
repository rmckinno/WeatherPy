{
 "cells": [
  {
   "cell_type": "code",
   "execution_count": 1,
   "source": [
    "# Import the dependencies.\r\n",
    "import pandas as pd\r\n",
    "import gmaps\r\n",
    "import requests\r\n",
    "import numpy as np\r\n",
    "# Import the API key.\r\n",
    "from config import g_key"
   ],
   "outputs": [],
   "metadata": {}
  },
  {
   "cell_type": "code",
   "execution_count": 2,
   "source": [
    "# read and store csv in df\r\n",
    "city_data_df = pd.read_csv(\"weather_data/cities.csv\")\r\n",
    "city_data_df.head()"
   ],
   "outputs": [
    {
     "output_type": "execute_result",
     "data": {
      "text/html": [
       "<div>\n",
       "<style scoped>\n",
       "    .dataframe tbody tr th:only-of-type {\n",
       "        vertical-align: middle;\n",
       "    }\n",
       "\n",
       "    .dataframe tbody tr th {\n",
       "        vertical-align: top;\n",
       "    }\n",
       "\n",
       "    .dataframe thead th {\n",
       "        text-align: right;\n",
       "    }\n",
       "</style>\n",
       "<table border=\"1\" class=\"dataframe\">\n",
       "  <thead>\n",
       "    <tr style=\"text-align: right;\">\n",
       "      <th></th>\n",
       "      <th>City_ID</th>\n",
       "      <th>City</th>\n",
       "      <th>Country</th>\n",
       "      <th>Date</th>\n",
       "      <th>Lat</th>\n",
       "      <th>Lng</th>\n",
       "      <th>Max Temp</th>\n",
       "      <th>Humidity</th>\n",
       "      <th>Cloudiness</th>\n",
       "      <th>Wind Speed</th>\n",
       "    </tr>\n",
       "  </thead>\n",
       "  <tbody>\n",
       "    <tr>\n",
       "      <th>0</th>\n",
       "      <td>0</td>\n",
       "      <td>Strezhevoy</td>\n",
       "      <td>RU</td>\n",
       "      <td>2021-09-21 20:26:40</td>\n",
       "      <td>60.7333</td>\n",
       "      <td>77.5889</td>\n",
       "      <td>33.78</td>\n",
       "      <td>98</td>\n",
       "      <td>100</td>\n",
       "      <td>5.28</td>\n",
       "    </tr>\n",
       "    <tr>\n",
       "      <th>1</th>\n",
       "      <td>1</td>\n",
       "      <td>Jamestown</td>\n",
       "      <td>US</td>\n",
       "      <td>2021-09-21 20:26:41</td>\n",
       "      <td>42.0970</td>\n",
       "      <td>-79.2353</td>\n",
       "      <td>74.01</td>\n",
       "      <td>70</td>\n",
       "      <td>75</td>\n",
       "      <td>4.00</td>\n",
       "    </tr>\n",
       "    <tr>\n",
       "      <th>2</th>\n",
       "      <td>2</td>\n",
       "      <td>Huanren</td>\n",
       "      <td>CN</td>\n",
       "      <td>2021-09-21 20:26:41</td>\n",
       "      <td>41.2647</td>\n",
       "      <td>125.3667</td>\n",
       "      <td>56.37</td>\n",
       "      <td>97</td>\n",
       "      <td>100</td>\n",
       "      <td>4.09</td>\n",
       "    </tr>\n",
       "    <tr>\n",
       "      <th>3</th>\n",
       "      <td>3</td>\n",
       "      <td>Ponta Do Sol</td>\n",
       "      <td>PT</td>\n",
       "      <td>2021-09-21 20:26:41</td>\n",
       "      <td>32.6667</td>\n",
       "      <td>-17.1000</td>\n",
       "      <td>74.03</td>\n",
       "      <td>72</td>\n",
       "      <td>72</td>\n",
       "      <td>5.19</td>\n",
       "    </tr>\n",
       "    <tr>\n",
       "      <th>4</th>\n",
       "      <td>4</td>\n",
       "      <td>Salinas</td>\n",
       "      <td>US</td>\n",
       "      <td>2021-09-21 20:22:43</td>\n",
       "      <td>36.6777</td>\n",
       "      <td>-121.6555</td>\n",
       "      <td>102.56</td>\n",
       "      <td>32</td>\n",
       "      <td>1</td>\n",
       "      <td>10.36</td>\n",
       "    </tr>\n",
       "  </tbody>\n",
       "</table>\n",
       "</div>"
      ],
      "text/plain": [
       "   City_ID          City Country                 Date      Lat       Lng  \\\n",
       "0        0    Strezhevoy      RU  2021-09-21 20:26:40  60.7333   77.5889   \n",
       "1        1     Jamestown      US  2021-09-21 20:26:41  42.0970  -79.2353   \n",
       "2        2       Huanren      CN  2021-09-21 20:26:41  41.2647  125.3667   \n",
       "3        3  Ponta Do Sol      PT  2021-09-21 20:26:41  32.6667  -17.1000   \n",
       "4        4       Salinas      US  2021-09-21 20:22:43  36.6777 -121.6555   \n",
       "\n",
       "   Max Temp  Humidity  Cloudiness  Wind Speed  \n",
       "0     33.78        98         100        5.28  \n",
       "1     74.01        70          75        4.00  \n",
       "2     56.37        97         100        4.09  \n",
       "3     74.03        72          72        5.19  \n",
       "4    102.56        32           1       10.36  "
      ]
     },
     "metadata": {},
     "execution_count": 2
    }
   ],
   "metadata": {}
  },
  {
   "cell_type": "code",
   "execution_count": 3,
   "source": [
    "# Get the data types\r\n",
    "city_data_df.dtypes"
   ],
   "outputs": [
    {
     "output_type": "execute_result",
     "data": {
      "text/plain": [
       "City_ID         int64\n",
       "City           object\n",
       "Country        object\n",
       "Date           object\n",
       "Lat           float64\n",
       "Lng           float64\n",
       "Max Temp      float64\n",
       "Humidity        int64\n",
       "Cloudiness      int64\n",
       "Wind Speed    float64\n",
       "dtype: object"
      ]
     },
     "metadata": {},
     "execution_count": 3
    }
   ],
   "metadata": {}
  },
  {
   "cell_type": "code",
   "execution_count": 4,
   "source": [
    "# Configure gmaps to use your Google API key.\r\n",
    "gmaps.configure(api_key=g_key)"
   ],
   "outputs": [],
   "metadata": {}
  },
  {
   "cell_type": "markdown",
   "source": [
    "# 1. Assign the locations\" to an array of latitude and longitude pairs.\r\n",
    "locations = [latitude, longitude]\r\n",
    "# 2. Assign the weights variable to some values.\r\n",
    "temperatures = # an array of length equal to the locations array length\r\n",
    "# 3. Assign the figure variable to the gmaps.figure() attribute.\r\n",
    "fig = gmaps.figure()\r\n",
    "# 4. Assign the heatmap_layer variable to the heatmap_layer attribute and add in the locations.\r\n",
    "heatmap_layer = gmaps.heatmap_layer(locations, weights=temperatures)\r\n",
    "# 5. Add the heatmap layer.\r\n",
    "fig.add_layer(heatmap_layer)\r\n",
    "# 6. Call the figure to plot the data.\r\n",
    "fig"
   ],
   "metadata": {}
  },
  {
   "cell_type": "code",
   "execution_count": 5,
   "source": [
    "# Heatmap of temperature\r\n",
    "locations = city_data_df[[\"Lat\", \"Lng\"]]\r\n",
    "max_temp = city_data_df[\"Max Temp\"]\r\n",
    "temps = []\r\n",
    "fig = gmaps.figure()\r\n",
    "heatmap_layer = gmaps.heatmap_layer(locations,  weights=[max(temp, 0) for temp in max_temp], dissipating=False, max_intensity=300, point_radius=4)\r\n",
    "fig = gmaps.figure(center=(30.0, 31.0), zoom_level=1.5)\r\n",
    "fig.add_layer(heatmap_layer)\r\n",
    "\r\n",
    "fig\r\n",
    "\r\n"
   ],
   "outputs": [
    {
     "output_type": "display_data",
     "data": {
      "application/vnd.jupyter.widget-view+json": {
       "version_major": 2,
       "version_minor": 0,
       "model_id": "5d97420f58f548b1a2fd5113d8955377"
      },
      "text/plain": [
       "Figure(layout=FigureLayout(height='420px'))"
      ]
     },
     "metadata": {}
    }
   ],
   "metadata": {}
  },
  {
   "cell_type": "code",
   "execution_count": 6,
   "source": [
    "# Heatmap of himiditiy \r\n",
    "locations = city_data_df[[\"Lat\", \"Lng\"]]\r\n",
    "humidity = city_data_df[\"Humidity\"]\r\n",
    "fig = gmaps.figure()\r\n",
    "fig = gmaps.figure(center=(30.0, 31.0), zoom_level=1.5)\r\n",
    "heatmap_layer = gmaps.heatmap_layer(locations,  weights=humidity, dissipating=False, max_intensity=300, point_radius=4)\r\n",
    "\r\n",
    "fig.add_layer(heatmap_layer)\r\n",
    "\r\n",
    "fig"
   ],
   "outputs": [
    {
     "output_type": "display_data",
     "data": {
      "application/vnd.jupyter.widget-view+json": {
       "version_major": 2,
       "version_minor": 0,
       "model_id": "8c8bebaec8b64b5f9d5bbb30ee4d5d69"
      },
      "text/plain": [
       "Figure(layout=FigureLayout(height='420px'))"
      ]
     },
     "metadata": {}
    }
   ],
   "metadata": {}
  },
  {
   "cell_type": "code",
   "execution_count": 7,
   "source": [
    "# Heatmap of cloudiness\r\n",
    "locations = city_data_df[[\"Lat\", \"Lng\"]]\r\n",
    "clouds = city_data_df[\"Cloudiness\"]\r\n",
    "fig = gmaps.figure()\r\n",
    "fig = gmaps.figure(center=(30.0, 31.0), zoom_level=1.5)\r\n",
    "heatmap_layer = gmaps.heatmap_layer(locations,  weights=clouds, dissipating=False, max_intensity=300, point_radius=4)\r\n",
    "\r\n",
    "fig.add_layer(heatmap_layer)\r\n",
    "fig"
   ],
   "outputs": [
    {
     "output_type": "display_data",
     "data": {
      "application/vnd.jupyter.widget-view+json": {
       "version_major": 2,
       "version_minor": 0,
       "model_id": "1d9920a4d1fc436584ae0ee793eb9793"
      },
      "text/plain": [
       "Figure(layout=FigureLayout(height='420px'))"
      ]
     },
     "metadata": {}
    }
   ],
   "metadata": {}
  },
  {
   "cell_type": "code",
   "execution_count": 8,
   "source": [
    "# Heatmap of hwind speed\r\n",
    "locations = city_data_df[[\"Lat\", \"Lng\"]]\r\n",
    "wind = city_data_df[\"Wind Speed\"]\r\n",
    "fig = gmaps.figure()\r\n",
    "fig = gmaps.figure(center=(30.0, 31.0), zoom_level=1.5)\r\n",
    "heatmap_layer = gmaps.heatmap_layer(locations,  weights=wind, dissipating=False, max_intensity=300, point_radius=4)\r\n",
    "\r\n",
    "fig.add_layer(heatmap_layer)\r\n",
    "fig"
   ],
   "outputs": [
    {
     "output_type": "display_data",
     "data": {
      "application/vnd.jupyter.widget-view+json": {
       "version_major": 2,
       "version_minor": 0,
       "model_id": "1022e68c9f1e435ca5bad2682e983cf0"
      },
      "text/plain": [
       "Figure(layout=FigureLayout(height='420px'))"
      ]
     },
     "metadata": {}
    }
   ],
   "metadata": {}
  },
  {
   "cell_type": "code",
   "execution_count": 9,
   "source": [
    "# Ask the customer to add a minimum and maximum temperature value.\r\n",
    "min_temp = float(input(\"What is the minimum temperature you would like for your trip? \"))\r\n",
    "max_temp = float(input(\"What is the maximum temperature you would like for your trip? \"))"
   ],
   "outputs": [],
   "metadata": {}
  },
  {
   "cell_type": "code",
   "execution_count": 10,
   "source": [
    "# Filter destinations based on max and min temp inputs\r\n",
    "preferred_cities_df = city_data_df.loc[(city_data_df[\"Max Temp\"] <= max_temp) & \r\n",
    "                                        (city_data_df[\"Max Temp\"] >= min_temp)]\r\n",
    "preferred_cities_df.head(10)"
   ],
   "outputs": [
    {
     "output_type": "execute_result",
     "data": {
      "text/html": [
       "<div>\n",
       "<style scoped>\n",
       "    .dataframe tbody tr th:only-of-type {\n",
       "        vertical-align: middle;\n",
       "    }\n",
       "\n",
       "    .dataframe tbody tr th {\n",
       "        vertical-align: top;\n",
       "    }\n",
       "\n",
       "    .dataframe thead th {\n",
       "        text-align: right;\n",
       "    }\n",
       "</style>\n",
       "<table border=\"1\" class=\"dataframe\">\n",
       "  <thead>\n",
       "    <tr style=\"text-align: right;\">\n",
       "      <th></th>\n",
       "      <th>City_ID</th>\n",
       "      <th>City</th>\n",
       "      <th>Country</th>\n",
       "      <th>Date</th>\n",
       "      <th>Lat</th>\n",
       "      <th>Lng</th>\n",
       "      <th>Max Temp</th>\n",
       "      <th>Humidity</th>\n",
       "      <th>Cloudiness</th>\n",
       "      <th>Wind Speed</th>\n",
       "    </tr>\n",
       "  </thead>\n",
       "  <tbody>\n",
       "    <tr>\n",
       "      <th>5</th>\n",
       "      <td>5</td>\n",
       "      <td>Vanimo</td>\n",
       "      <td>PG</td>\n",
       "      <td>2021-09-21 20:26:42</td>\n",
       "      <td>-2.6741</td>\n",
       "      <td>141.3028</td>\n",
       "      <td>76.78</td>\n",
       "      <td>90</td>\n",
       "      <td>100</td>\n",
       "      <td>2.68</td>\n",
       "    </tr>\n",
       "    <tr>\n",
       "      <th>17</th>\n",
       "      <td>17</td>\n",
       "      <td>Luganville</td>\n",
       "      <td>VU</td>\n",
       "      <td>2021-09-21 20:26:46</td>\n",
       "      <td>-15.5333</td>\n",
       "      <td>167.1667</td>\n",
       "      <td>76.91</td>\n",
       "      <td>77</td>\n",
       "      <td>69</td>\n",
       "      <td>2.21</td>\n",
       "    </tr>\n",
       "    <tr>\n",
       "      <th>23</th>\n",
       "      <td>23</td>\n",
       "      <td>Avarua</td>\n",
       "      <td>CK</td>\n",
       "      <td>2021-09-21 20:26:47</td>\n",
       "      <td>-21.2078</td>\n",
       "      <td>-159.7750</td>\n",
       "      <td>77.05</td>\n",
       "      <td>83</td>\n",
       "      <td>75</td>\n",
       "      <td>6.91</td>\n",
       "    </tr>\n",
       "    <tr>\n",
       "      <th>27</th>\n",
       "      <td>27</td>\n",
       "      <td>Kirakira</td>\n",
       "      <td>SB</td>\n",
       "      <td>2021-09-21 20:26:49</td>\n",
       "      <td>-10.4544</td>\n",
       "      <td>161.9205</td>\n",
       "      <td>78.80</td>\n",
       "      <td>85</td>\n",
       "      <td>80</td>\n",
       "      <td>5.37</td>\n",
       "    </tr>\n",
       "    <tr>\n",
       "      <th>34</th>\n",
       "      <td>34</td>\n",
       "      <td>Humberto De Campos</td>\n",
       "      <td>BR</td>\n",
       "      <td>2021-09-21 20:26:51</td>\n",
       "      <td>-2.5983</td>\n",
       "      <td>-43.4611</td>\n",
       "      <td>83.50</td>\n",
       "      <td>64</td>\n",
       "      <td>89</td>\n",
       "      <td>9.75</td>\n",
       "    </tr>\n",
       "    <tr>\n",
       "      <th>43</th>\n",
       "      <td>43</td>\n",
       "      <td>Veraval</td>\n",
       "      <td>IN</td>\n",
       "      <td>2021-09-21 20:26:54</td>\n",
       "      <td>20.9000</td>\n",
       "      <td>70.3667</td>\n",
       "      <td>80.67</td>\n",
       "      <td>86</td>\n",
       "      <td>94</td>\n",
       "      <td>16.22</td>\n",
       "    </tr>\n",
       "    <tr>\n",
       "      <th>45</th>\n",
       "      <td>45</td>\n",
       "      <td>San Cristobal</td>\n",
       "      <td>VE</td>\n",
       "      <td>2021-09-21 20:26:55</td>\n",
       "      <td>7.7669</td>\n",
       "      <td>-72.2250</td>\n",
       "      <td>80.78</td>\n",
       "      <td>83</td>\n",
       "      <td>100</td>\n",
       "      <td>5.99</td>\n",
       "    </tr>\n",
       "    <tr>\n",
       "      <th>49</th>\n",
       "      <td>49</td>\n",
       "      <td>Dalbandin</td>\n",
       "      <td>PK</td>\n",
       "      <td>2021-09-21 20:26:56</td>\n",
       "      <td>28.8947</td>\n",
       "      <td>64.4101</td>\n",
       "      <td>78.82</td>\n",
       "      <td>12</td>\n",
       "      <td>0</td>\n",
       "      <td>1.86</td>\n",
       "    </tr>\n",
       "    <tr>\n",
       "      <th>50</th>\n",
       "      <td>50</td>\n",
       "      <td>Davila</td>\n",
       "      <td>PH</td>\n",
       "      <td>2021-09-21 20:26:57</td>\n",
       "      <td>18.4726</td>\n",
       "      <td>120.5763</td>\n",
       "      <td>81.09</td>\n",
       "      <td>82</td>\n",
       "      <td>29</td>\n",
       "      <td>4.18</td>\n",
       "    </tr>\n",
       "    <tr>\n",
       "      <th>54</th>\n",
       "      <td>54</td>\n",
       "      <td>Puerto Ayora</td>\n",
       "      <td>EC</td>\n",
       "      <td>2021-09-21 20:26:58</td>\n",
       "      <td>-0.7393</td>\n",
       "      <td>-90.3518</td>\n",
       "      <td>76.96</td>\n",
       "      <td>83</td>\n",
       "      <td>74</td>\n",
       "      <td>11.01</td>\n",
       "    </tr>\n",
       "  </tbody>\n",
       "</table>\n",
       "</div>"
      ],
      "text/plain": [
       "    City_ID                City Country                 Date      Lat  \\\n",
       "5         5              Vanimo      PG  2021-09-21 20:26:42  -2.6741   \n",
       "17       17          Luganville      VU  2021-09-21 20:26:46 -15.5333   \n",
       "23       23              Avarua      CK  2021-09-21 20:26:47 -21.2078   \n",
       "27       27            Kirakira      SB  2021-09-21 20:26:49 -10.4544   \n",
       "34       34  Humberto De Campos      BR  2021-09-21 20:26:51  -2.5983   \n",
       "43       43             Veraval      IN  2021-09-21 20:26:54  20.9000   \n",
       "45       45       San Cristobal      VE  2021-09-21 20:26:55   7.7669   \n",
       "49       49           Dalbandin      PK  2021-09-21 20:26:56  28.8947   \n",
       "50       50              Davila      PH  2021-09-21 20:26:57  18.4726   \n",
       "54       54        Puerto Ayora      EC  2021-09-21 20:26:58  -0.7393   \n",
       "\n",
       "         Lng  Max Temp  Humidity  Cloudiness  Wind Speed  \n",
       "5   141.3028     76.78        90         100        2.68  \n",
       "17  167.1667     76.91        77          69        2.21  \n",
       "23 -159.7750     77.05        83          75        6.91  \n",
       "27  161.9205     78.80        85          80        5.37  \n",
       "34  -43.4611     83.50        64          89        9.75  \n",
       "43   70.3667     80.67        86          94       16.22  \n",
       "45  -72.2250     80.78        83         100        5.99  \n",
       "49   64.4101     78.82        12           0        1.86  \n",
       "50  120.5763     81.09        82          29        4.18  \n",
       "54  -90.3518     76.96        83          74       11.01  "
      ]
     },
     "metadata": {},
     "execution_count": 10
    }
   ],
   "metadata": {}
  },
  {
   "cell_type": "code",
   "execution_count": 11,
   "source": [
    "preferred_cities_df[preferred_cities_df[\"Country\"].isnull()]"
   ],
   "outputs": [
    {
     "output_type": "execute_result",
     "data": {
      "text/html": [
       "<div>\n",
       "<style scoped>\n",
       "    .dataframe tbody tr th:only-of-type {\n",
       "        vertical-align: middle;\n",
       "    }\n",
       "\n",
       "    .dataframe tbody tr th {\n",
       "        vertical-align: top;\n",
       "    }\n",
       "\n",
       "    .dataframe thead th {\n",
       "        text-align: right;\n",
       "    }\n",
       "</style>\n",
       "<table border=\"1\" class=\"dataframe\">\n",
       "  <thead>\n",
       "    <tr style=\"text-align: right;\">\n",
       "      <th></th>\n",
       "      <th>City_ID</th>\n",
       "      <th>City</th>\n",
       "      <th>Country</th>\n",
       "      <th>Date</th>\n",
       "      <th>Lat</th>\n",
       "      <th>Lng</th>\n",
       "      <th>Max Temp</th>\n",
       "      <th>Humidity</th>\n",
       "      <th>Cloudiness</th>\n",
       "      <th>Wind Speed</th>\n",
       "    </tr>\n",
       "  </thead>\n",
       "  <tbody>\n",
       "    <tr>\n",
       "      <th>427</th>\n",
       "      <td>427</td>\n",
       "      <td>Ongandjera</td>\n",
       "      <td>NaN</td>\n",
       "      <td>2021-09-21 20:29:02</td>\n",
       "      <td>-17.8833</td>\n",
       "      <td>15.0667</td>\n",
       "      <td>79.68</td>\n",
       "      <td>17</td>\n",
       "      <td>5</td>\n",
       "      <td>10.80</td>\n",
       "    </tr>\n",
       "    <tr>\n",
       "      <th>502</th>\n",
       "      <td>502</td>\n",
       "      <td>Opuwo</td>\n",
       "      <td>NaN</td>\n",
       "      <td>2021-09-21 20:28:16</td>\n",
       "      <td>-18.0607</td>\n",
       "      <td>13.8400</td>\n",
       "      <td>77.05</td>\n",
       "      <td>21</td>\n",
       "      <td>14</td>\n",
       "      <td>5.66</td>\n",
       "    </tr>\n",
       "  </tbody>\n",
       "</table>\n",
       "</div>"
      ],
      "text/plain": [
       "     City_ID        City Country                 Date      Lat      Lng  \\\n",
       "427      427  Ongandjera     NaN  2021-09-21 20:29:02 -17.8833  15.0667   \n",
       "502      502       Opuwo     NaN  2021-09-21 20:28:16 -18.0607  13.8400   \n",
       "\n",
       "     Max Temp  Humidity  Cloudiness  Wind Speed  \n",
       "427     79.68        17           5       10.80  \n",
       "502     77.05        21          14        5.66  "
      ]
     },
     "metadata": {},
     "execution_count": 11
    }
   ],
   "metadata": {}
  },
  {
   "cell_type": "code",
   "execution_count": 12,
   "source": [
    "preferred_cities_df = preferred_cities_df.dropna()\r\n",
    "preferred_cities_df.isnull().count()"
   ],
   "outputs": [
    {
     "output_type": "execute_result",
     "data": {
      "text/plain": [
       "City_ID       166\n",
       "City          166\n",
       "Country       166\n",
       "Date          166\n",
       "Lat           166\n",
       "Lng           166\n",
       "Max Temp      166\n",
       "Humidity      166\n",
       "Cloudiness    166\n",
       "Wind Speed    166\n",
       "dtype: int64"
      ]
     },
     "metadata": {},
     "execution_count": 12
    }
   ],
   "metadata": {}
  },
  {
   "cell_type": "code",
   "execution_count": 13,
   "source": [
    "hotel_df = preferred_cities_df[[\"City\", \"Country\", \"Max Temp\", \"Lat\", \"Lng\"]].copy()\r\n",
    "hotel_df[\"Hotel Name\"] = np.nan"
   ],
   "outputs": [],
   "metadata": {}
  },
  {
   "cell_type": "code",
   "execution_count": 14,
   "source": [
    "# api key\r\n",
    "from config import g_key\r\n",
    "params = {\r\n",
    "    \"key\": g_key,\r\n",
    "    \"radius\": 5000,\r\n",
    "    \"type\": \"lodging\"}\r\n",
    "\r\n",
    "# Iterate through the DataFrame.\r\n",
    "for index, row in hotel_df.iterrows():\r\n",
    "    # Get the latitude and longitude.\r\n",
    "    lat = row[\"Lat\"]\r\n",
    "    lng = row[\"Lng\"]\r\n",
    "\r\n",
    "    # Add the latitude and longitude to location key for the params dictionary.\r\n",
    "    params[\"location\"] = f\"{lat},{lng}\"\r\n",
    "\r\n",
    "    # Use the search term: \"lodging\" and our latitude and longitude.\r\n",
    "    base_url = \"https://maps.googleapis.com/maps/api/place/nearbysearch/json\"\r\n",
    "    # Make request and get the JSON data from the search.\r\n",
    "    hotels = requests.get(base_url, params=params).json()\r\n",
    "   # Grab the first hotel from the results and store the name.\r\n",
    "    try:\r\n",
    "        hotel_df.loc[index, \"Hotel Name\"] = hotels[\"results\"][0][\"name\"]\r\n",
    "    except (IndexError):\r\n",
    "        print(\"Hotel not found... skipping.\")\r\n",
    "\r\n",
    "\r\n"
   ],
   "outputs": [
    {
     "output_type": "stream",
     "name": "stdout",
     "text": [
      "Hotel not found... skipping.\n",
      "Hotel not found... skipping.\n",
      "Hotel not found... skipping.\n",
      "Hotel not found... skipping.\n",
      "Hotel not found... skipping.\n",
      "Hotel not found... skipping.\n",
      "Hotel not found... skipping.\n",
      "Hotel not found... skipping.\n",
      "Hotel not found... skipping.\n",
      "Hotel not found... skipping.\n",
      "Hotel not found... skipping.\n",
      "Hotel not found... skipping.\n",
      "Hotel not found... skipping.\n",
      "Hotel not found... skipping.\n"
     ]
    }
   ],
   "metadata": {}
  },
  {
   "cell_type": "code",
   "execution_count": 15,
   "source": [
    "hotel_df.head(10)"
   ],
   "outputs": [
    {
     "output_type": "execute_result",
     "data": {
      "text/html": [
       "<div>\n",
       "<style scoped>\n",
       "    .dataframe tbody tr th:only-of-type {\n",
       "        vertical-align: middle;\n",
       "    }\n",
       "\n",
       "    .dataframe tbody tr th {\n",
       "        vertical-align: top;\n",
       "    }\n",
       "\n",
       "    .dataframe thead th {\n",
       "        text-align: right;\n",
       "    }\n",
       "</style>\n",
       "<table border=\"1\" class=\"dataframe\">\n",
       "  <thead>\n",
       "    <tr style=\"text-align: right;\">\n",
       "      <th></th>\n",
       "      <th>City</th>\n",
       "      <th>Country</th>\n",
       "      <th>Max Temp</th>\n",
       "      <th>Lat</th>\n",
       "      <th>Lng</th>\n",
       "      <th>Hotel Name</th>\n",
       "    </tr>\n",
       "  </thead>\n",
       "  <tbody>\n",
       "    <tr>\n",
       "      <th>5</th>\n",
       "      <td>Vanimo</td>\n",
       "      <td>PG</td>\n",
       "      <td>76.78</td>\n",
       "      <td>-2.6741</td>\n",
       "      <td>141.3028</td>\n",
       "      <td>Vahmoneh Lodge Vanimo</td>\n",
       "    </tr>\n",
       "    <tr>\n",
       "      <th>17</th>\n",
       "      <td>Luganville</td>\n",
       "      <td>VU</td>\n",
       "      <td>76.91</td>\n",
       "      <td>-15.5333</td>\n",
       "      <td>167.1667</td>\n",
       "      <td>The Espiritu Hotel</td>\n",
       "    </tr>\n",
       "    <tr>\n",
       "      <th>23</th>\n",
       "      <td>Avarua</td>\n",
       "      <td>CK</td>\n",
       "      <td>77.05</td>\n",
       "      <td>-21.2078</td>\n",
       "      <td>-159.7750</td>\n",
       "      <td>Paradise Inn</td>\n",
       "    </tr>\n",
       "    <tr>\n",
       "      <th>27</th>\n",
       "      <td>Kirakira</td>\n",
       "      <td>SB</td>\n",
       "      <td>78.80</td>\n",
       "      <td>-10.4544</td>\n",
       "      <td>161.9205</td>\n",
       "      <td>SanBiz Lodge</td>\n",
       "    </tr>\n",
       "    <tr>\n",
       "      <th>34</th>\n",
       "      <td>Humberto De Campos</td>\n",
       "      <td>BR</td>\n",
       "      <td>83.50</td>\n",
       "      <td>-2.5983</td>\n",
       "      <td>-43.4611</td>\n",
       "      <td>Pousada do Cabeça</td>\n",
       "    </tr>\n",
       "    <tr>\n",
       "      <th>43</th>\n",
       "      <td>Veraval</td>\n",
       "      <td>IN</td>\n",
       "      <td>80.67</td>\n",
       "      <td>20.9000</td>\n",
       "      <td>70.3667</td>\n",
       "      <td>Lords Inn Somnath</td>\n",
       "    </tr>\n",
       "    <tr>\n",
       "      <th>45</th>\n",
       "      <td>San Cristobal</td>\n",
       "      <td>VE</td>\n",
       "      <td>80.78</td>\n",
       "      <td>7.7669</td>\n",
       "      <td>-72.2250</td>\n",
       "      <td>Posada Villaven C.A.</td>\n",
       "    </tr>\n",
       "    <tr>\n",
       "      <th>49</th>\n",
       "      <td>Dalbandin</td>\n",
       "      <td>PK</td>\n",
       "      <td>78.82</td>\n",
       "      <td>28.8947</td>\n",
       "      <td>64.4101</td>\n",
       "      <td>Gidaan Guest House</td>\n",
       "    </tr>\n",
       "    <tr>\n",
       "      <th>50</th>\n",
       "      <td>Davila</td>\n",
       "      <td>PH</td>\n",
       "      <td>81.09</td>\n",
       "      <td>18.4726</td>\n",
       "      <td>120.5763</td>\n",
       "      <td>Blue Ridge Beach Resort</td>\n",
       "    </tr>\n",
       "    <tr>\n",
       "      <th>54</th>\n",
       "      <td>Puerto Ayora</td>\n",
       "      <td>EC</td>\n",
       "      <td>76.96</td>\n",
       "      <td>-0.7393</td>\n",
       "      <td>-90.3518</td>\n",
       "      <td>Finch Bay Galapagos Hotel</td>\n",
       "    </tr>\n",
       "  </tbody>\n",
       "</table>\n",
       "</div>"
      ],
      "text/plain": [
       "                  City Country  Max Temp      Lat       Lng  \\\n",
       "5               Vanimo      PG     76.78  -2.6741  141.3028   \n",
       "17          Luganville      VU     76.91 -15.5333  167.1667   \n",
       "23              Avarua      CK     77.05 -21.2078 -159.7750   \n",
       "27            Kirakira      SB     78.80 -10.4544  161.9205   \n",
       "34  Humberto De Campos      BR     83.50  -2.5983  -43.4611   \n",
       "43             Veraval      IN     80.67  20.9000   70.3667   \n",
       "45       San Cristobal      VE     80.78   7.7669  -72.2250   \n",
       "49           Dalbandin      PK     78.82  28.8947   64.4101   \n",
       "50              Davila      PH     81.09  18.4726  120.5763   \n",
       "54        Puerto Ayora      EC     76.96  -0.7393  -90.3518   \n",
       "\n",
       "                   Hotel Name  \n",
       "5       Vahmoneh Lodge Vanimo  \n",
       "17         The Espiritu Hotel  \n",
       "23               Paradise Inn  \n",
       "27               SanBiz Lodge  \n",
       "34          Pousada do Cabeça  \n",
       "43          Lords Inn Somnath  \n",
       "45       Posada Villaven C.A.  \n",
       "49         Gidaan Guest House  \n",
       "50    Blue Ridge Beach Resort  \n",
       "54  Finch Bay Galapagos Hotel  "
      ]
     },
     "metadata": {},
     "execution_count": 15
    }
   ],
   "metadata": {}
  },
  {
   "cell_type": "code",
   "execution_count": 16,
   "source": [
    "hotel_df.isnull().count()"
   ],
   "outputs": [
    {
     "output_type": "execute_result",
     "data": {
      "text/plain": [
       "City          166\n",
       "Country       166\n",
       "Max Temp      166\n",
       "Lat           166\n",
       "Lng           166\n",
       "Hotel Name    166\n",
       "dtype: int64"
      ]
     },
     "metadata": {},
     "execution_count": 16
    }
   ],
   "metadata": {}
  },
  {
   "cell_type": "code",
   "execution_count": 19,
   "source": [
    "fig = gmaps.figure(center=(30.0, 31.0), zoom_level=1.5)\r\n",
    "info_box_template = \"\"\"\r\n",
    "<dl>\r\n",
    "<dt><b>Hotel Name</b></dt><dd>{Hotel Name}</dd>\r\n",
    "<dt><b>City</b></dt><dd>{City}</dd>\r\n",
    "<dt><b>Country</b></dt><dd>{Country}</dd>\r\n",
    "<dt><b>Max Temp</b></dt><dd>{Max Temp} °F</dd>\r\n",
    "</dl>\r\n",
    "\"\"\"\r\n",
    "# Store the DataFrame Row.\r\n",
    "hotel_info = [info_box_template.format(**row) for index, row in hotel_df.iterrows()]\r\n",
    "# Add a heatmap of temperature for the vacation spots.\r\n",
    "locations = hotel_df[[\"Lat\", \"Lng\"]]\r\n",
    "max_temp = hotel_df[\"Max Temp\"]\r\n",
    "fig = gmaps.figure(center=(30.0, 31.0), zoom_level=1.5)\r\n",
    "# add heatmap layer attribute\r\n",
    "heat_layer = gmaps.heatmap_layer(locations, weights=max_temp, dissipating=False,\r\n",
    "             max_intensity=300, point_radius=4)\r\n",
    "# define marker layer attribute as variable\r\n",
    "# aadd info box to marker_layer attribute\r\n",
    "marker_layer = gmaps.marker_layer(locations, info_box_content=hotel_info)\r\n",
    "fig.add_layer(heat_layer)\r\n",
    "# add marker layer\r\n",
    "fig.add_layer(marker_layer)\r\n",
    "# Call the figure to plot the data.\r\n",
    "fig"
   ],
   "outputs": [
    {
     "output_type": "display_data",
     "data": {
      "application/vnd.jupyter.widget-view+json": {
       "version_major": 2,
       "version_minor": 0,
       "model_id": "29387b1ad19e4d58ae5ea9e2a09f3373"
      },
      "text/plain": [
       "Figure(layout=FigureLayout(height='420px'))"
      ]
     },
     "metadata": {}
    }
   ],
   "metadata": {}
  },
  {
   "cell_type": "code",
   "execution_count": 18,
   "source": [],
   "outputs": [],
   "metadata": {}
  }
 ],
 "metadata": {
  "orig_nbformat": 4,
  "language_info": {
   "name": "python",
   "version": "3.7.10",
   "mimetype": "text/x-python",
   "codemirror_mode": {
    "name": "ipython",
    "version": 3
   },
   "pygments_lexer": "ipython3",
   "nbconvert_exporter": "python",
   "file_extension": ".py"
  },
  "kernelspec": {
   "name": "python3",
   "display_name": "Python 3.7.10 64-bit ('PythonData': conda)"
  },
  "interpreter": {
   "hash": "ba811227e5113630f3e86c70e313d06ae2dfd46e7161e367481d37fda7dbb7b8"
  }
 },
 "nbformat": 4,
 "nbformat_minor": 2
}